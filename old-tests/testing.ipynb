{
 "cells": [
  {
   "cell_type": "code",
   "execution_count": 1,
   "metadata": {},
   "outputs": [],
   "source": [
    "import pretty_midi as pm\n",
    "import IPython.display\n",
    "import matplotlib.pyplot as plt\n",
    "import librosa.display\n",
    "import numpy as np\n",
    "import os\n",
    "import time"
   ]
  },
  {
   "cell_type": "code",
   "execution_count": 2,
   "metadata": {},
   "outputs": [
    {
     "output_type": "stream",
     "name": "stdout",
     "text": [
      "piano_roll shape: (128, 22814)\nchroma shape: (12, 22814)\n"
     ]
    }
   ],
   "source": [
    "midi_song = pm.PrettyMIDI(\"lmd_matched\\A\\A\\A\\TRAAAGR128F425B14B\\\\b97c529ab9ef783a849b896816001748.mid\")\n",
    "piano_roll = midi_song.get_piano_roll()\n",
    "chroma = midi_song.get_chroma()\n",
    "print(\"piano_roll shape: {}\".format(piano_roll.shape))\n",
    "print(\"chroma shape: {}\".format(chroma.shape))"
   ]
  },
  {
   "cell_type": "code",
   "execution_count": 3,
   "metadata": {},
   "outputs": [
    {
     "output_type": "stream",
     "name": "stdout",
     "text": [
      "Shamisen | 106 | TOUCHINT\nElectric Guitar (muted) | 28 | TOUCHINT\nAcoustic Guitar (nylon) | 24 | TOUCHINT\nPan Flute | 75 | TOUCHINT\nKalimba | 108 | TOUCHINT\nPad 3 (polysynth) | 90 | TOUCHINT\nSynth Bass 2 | 39 | TOUCHINT\nLead 8 (bass + lead) | 87 | TOUCHINT\nString Ensemble 2 | 49 | TOUCHINT\nHarmonica | 22 | TOUCHINT\nMelodic Tom | 117 | TOUCHINT\nPercussive Organ | 17 | TOUCHINT\nSynth Brass 2 | 63 | TOUCHINT\nChoir Aahs | 52 | TOUCHINT\nAcoustic Grand Piano | 0 | TOUCHINT\nSynth Brass 1 | 62 | TOUCHINT\n"
     ]
    }
   ],
   "source": [
    "for inst in midi_data.instruments:\n",
    "    print(pm.program_to_instrument_name(inst.program), \"|\", inst.program, \"|\", inst.name)"
   ]
  },
  {
   "cell_type": "code",
   "execution_count": 22,
   "metadata": {},
   "outputs": [
    {
     "output_type": "stream",
     "name": "stderr",
     "text": [
      "C:\\Users\\benja\\AppData\\Roaming\\Python\\Python39\\site-packages\\librosa\\display.py:1335: UserWarning: Frequency axis exceeds Nyquist. Did you remember to set all spectrogram parameters in specshow?\n  warnings.warn(\n"
     ]
    },
    {
     "output_type": "execute_result",
     "data": {
      "text/plain": [
       "<matplotlib.collections.QuadMesh at 0x2998b5855b0>"
      ]
     },
     "metadata": {},
     "execution_count": 22
    },
    {
     "output_type": "display_data",
     "data": {
      "text/plain": "<Figure size 720x216 with 1 Axes>",
      "image/svg+xml": "<?xml version=\"1.0\" encoding=\"utf-8\" standalone=\"no\"?>\r\n<!DOCTYPE svg PUBLIC \"-//W3C//DTD SVG 1.1//EN\"\r\n  \"http://www.w3.org/Graphics/SVG/1.1/DTD/svg11.dtd\">\r\n<svg height=\"180.98pt\" version=\"1.1\" viewBox=\"0 0 586.078125 180.98\" width=\"586.078125pt\" xmlns=\"http://www.w3.org/2000/svg\" xmlns:xlink=\"http://www.w3.org/1999/xlink\">\r\n <metadata>\r\n  <rdf:RDF xmlns:cc=\"http://creativecommons.org/ns#\" xmlns:dc=\"http://purl.org/dc/elements/1.1/\" xmlns:rdf=\"http://www.w3.org/1999/02/22-rdf-syntax-ns#\">\r\n   <cc:Work>\r\n    <dc:type rdf:resource=\"http://purl.org/dc/dcmitype/StillImage\"/>\r\n    <dc:date>2021-08-26T10:55:19.543870</dc:date>\r\n    <dc:format>image/svg+xml</dc:format>\r\n    <dc:creator>\r\n     <cc:Agent>\r\n      <dc:title>Matplotlib v3.4.3, https://matplotlib.org/</dc:title>\r\n     </cc:Agent>\r\n    </dc:creator>\r\n   </cc:Work>\r\n  </rdf:RDF>\r\n </metadata>\r\n <defs>\r\n  <style type=\"text/css\">*{stroke-linecap:butt;stroke-linejoin:round;}</style>\r\n </defs>\r\n <g id=\"figure_1\">\r\n  <g id=\"patch_1\">\r\n   <path d=\"M 0 180.98 \r\nL 586.078125 180.98 \r\nL 586.078125 0 \r\nL 0 0 \r\nz\r\n\" style=\"fill:none;\"/>\r\n  </g>\r\n  <g id=\"axes_1\">\r\n   <g id=\"patch_2\">\r\n    <path d=\"M 20.878125 170.28 \r\nL 578.878125 170.28 \r\nL 578.878125 7.2 \r\nL 20.878125 7.2 \r\nz\r\n\" style=\"fill:#ffffff;\"/>\r\n   </g>\r\n   <image height=\"163\" id=\"imagec60b69e4bb\" transform=\"scale(1 -1)translate(0 -163)\" width=\"558\" x=\"21\" xlink:href=\"data:image/png;base64,\r\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\" y=\"-6\"/>\r\n   <g id=\"matplotlib.axis_1\"/>\r\n   <g id=\"matplotlib.axis_2\">\r\n    <g id=\"text_1\">\r\n     <!-- Note -->\r\n     <g transform=\"translate(14.798437 100.576719)rotate(-90)scale(0.1 -0.1)\">\r\n      <defs>\r\n       <path d=\"M 628 4666 \r\nL 1478 4666 \r\nL 3547 763 \r\nL 3547 4666 \r\nL 4159 4666 \r\nL 4159 0 \r\nL 3309 0 \r\nL 1241 3903 \r\nL 1241 0 \r\nL 628 0 \r\nL 628 4666 \r\nz\r\n\" id=\"DejaVuSans-4e\" transform=\"scale(0.015625)\"/>\r\n       <path d=\"M 1959 3097 \r\nQ 1497 3097 1228 2736 \r\nQ 959 2375 959 1747 \r\nQ 959 1119 1226 758 \r\nQ 1494 397 1959 397 \r\nQ 2419 397 2687 759 \r\nQ 2956 1122 2956 1747 \r\nQ 2956 2369 2687 2733 \r\nQ 2419 3097 1959 3097 \r\nz\r\nM 1959 3584 \r\nQ 2709 3584 3137 3096 \r\nQ 3566 2609 3566 1747 \r\nQ 3566 888 3137 398 \r\nQ 2709 -91 1959 -91 \r\nQ 1206 -91 779 398 \r\nQ 353 888 353 1747 \r\nQ 353 2609 779 3096 \r\nQ 1206 3584 1959 3584 \r\nz\r\n\" id=\"DejaVuSans-6f\" transform=\"scale(0.015625)\"/>\r\n       <path d=\"M 1172 4494 \r\nL 1172 3500 \r\nL 2356 3500 \r\nL 2356 3053 \r\nL 1172 3053 \r\nL 1172 1153 \r\nQ 1172 725 1289 603 \r\nQ 1406 481 1766 481 \r\nL 2356 481 \r\nL 2356 0 \r\nL 1766 0 \r\nQ 1100 0 847 248 \r\nQ 594 497 594 1153 \r\nL 594 3053 \r\nL 172 3053 \r\nL 172 3500 \r\nL 594 3500 \r\nL 594 4494 \r\nL 1172 4494 \r\nz\r\n\" id=\"DejaVuSans-74\" transform=\"scale(0.015625)\"/>\r\n       <path d=\"M 3597 1894 \r\nL 3597 1613 \r\nL 953 1613 \r\nQ 991 1019 1311 708 \r\nQ 1631 397 2203 397 \r\nQ 2534 397 2845 478 \r\nQ 3156 559 3463 722 \r\nL 3463 178 \r\nQ 3153 47 2828 -22 \r\nQ 2503 -91 2169 -91 \r\nQ 1331 -91 842 396 \r\nQ 353 884 353 1716 \r\nQ 353 2575 817 3079 \r\nQ 1281 3584 2069 3584 \r\nQ 2775 3584 3186 3129 \r\nQ 3597 2675 3597 1894 \r\nz\r\nM 3022 2063 \r\nQ 3016 2534 2758 2815 \r\nQ 2500 3097 2075 3097 \r\nQ 1594 3097 1305 2825 \r\nQ 1016 2553 972 2059 \r\nL 3022 2063 \r\nz\r\n\" id=\"DejaVuSans-65\" transform=\"scale(0.015625)\"/>\r\n      </defs>\r\n      <use xlink:href=\"#DejaVuSans-4e\"/>\r\n      <use x=\"74.804688\" xlink:href=\"#DejaVuSans-6f\"/>\r\n      <use x=\"135.986328\" xlink:href=\"#DejaVuSans-74\"/>\r\n      <use x=\"175.195312\" xlink:href=\"#DejaVuSans-65\"/>\r\n     </g>\r\n    </g>\r\n   </g>\r\n   <g id=\"patch_3\">\r\n    <path d=\"M 20.878125 170.28 \r\nL 20.878125 7.2 \r\n\" style=\"fill:none;stroke:#000000;stroke-linecap:square;stroke-linejoin:miter;stroke-width:0.8;\"/>\r\n   </g>\r\n   <g id=\"patch_4\">\r\n    <path d=\"M 578.878125 170.28 \r\nL 578.878125 7.2 \r\n\" style=\"fill:none;stroke:#000000;stroke-linecap:square;stroke-linejoin:miter;stroke-width:0.8;\"/>\r\n   </g>\r\n   <g id=\"patch_5\">\r\n    <path d=\"M 20.878125 170.28 \r\nL 578.878125 170.28 \r\n\" style=\"fill:none;stroke:#000000;stroke-linecap:square;stroke-linejoin:miter;stroke-width:0.8;\"/>\r\n   </g>\r\n   <g id=\"patch_6\">\r\n    <path d=\"M 20.878125 7.2 \r\nL 578.878125 7.2 \r\n\" style=\"fill:none;stroke:#000000;stroke-linecap:square;stroke-linejoin:miter;stroke-width:0.8;\"/>\r\n   </g>\r\n  </g>\r\n </g>\r\n</svg>\r\n",
      "image/png": "[encoded data removed]"
     },
     "metadata": {}
    }
   ],
   "source": [
    "plt.figure(figsize=(10, 3))\n",
    "librosa.display.specshow(piano_roll, y_axis='cqt_note', cmap=plt.cm.hot)"
   ]
  },
  {
   "cell_type": "code",
   "execution_count": 3,
   "metadata": {},
   "outputs": [],
   "source": [
    "midi_song = pretty_midi.PrettyMIDI('lmd_matched/A/A/A/TRAAAGR128F425B14B/1d9d16a9da90c090809c153754823c2b.mid')"
   ]
  },
  {
   "cell_type": "code",
   "execution_count": 4,
   "metadata": {},
   "outputs": [
    {
     "name": "stdout",
     "output_type": "stream",
     "text": [
      "Instrument(program=62, is_drum=False, name=\"main synth          \")\n",
      "Instrument(program=62, is_drum=False, name=\"echo synth          \")\n",
      "Instrument(program=48, is_drum=False, name=\"main strings h      \")\n",
      "Instrument(program=48, is_drum=False, name=\"main strings m      \")\n",
      "Instrument(program=48, is_drum=False, name=\"main strings l      \")\n",
      "Instrument(program=33, is_drum=False, name=\"main bass           \")\n",
      "Instrument(program=0, is_drum=True, name=\"drums + fills       \")\n",
      "Instrument(program=14, is_drum=False, name=\"xtras               \")\n",
      "Instrument(program=6, is_drum=False, name=\"harpsichord         \")\n",
      "Instrument(program=19, is_drum=False, name=\"verse vibe h        \")\n",
      "Instrument(program=19, is_drum=False, name=\"verse vibe m        \")\n",
      "Instrument(program=19, is_drum=False, name=\"verse vibe l        \")\n",
      "Instrument(program=1, is_drum=False, name=\"verse piano         \")\n",
      "Instrument(program=64, is_drum=False, name=\"verse xtra          \")\n",
      "Instrument(program=48, is_drum=False, name=\"end string h        \")\n",
      "Instrument(program=1, is_drum=False, name=\"voice               \")\n",
      "Instrument(program=55, is_drum=False, name=\"orchestra hit       \")\n"
     ]
    }
   ],
   "source": [
    "for instrument in midi_song.instruments:\n",
    "    print(instrument)"
   ]
  },
  {
   "cell_type": "code",
   "execution_count": 2,
   "metadata": {},
   "outputs": [
    {
     "output_type": "stream",
     "name": "stdout",
     "text": [
      "116189\n"
     ]
    }
   ],
   "source": [
    "path = \"lmd_matched\"\n",
    "\n",
    "files = []\n",
    "\n",
    "for r, d, f in os.walk(path):\n",
    "    for file in f:\n",
    "        if '.mid' in file:\n",
    "            files.append(os.path.join(r, file))\n",
    "print(len(files))"
   ]
  },
  {
   "cell_type": "code",
   "execution_count": 3,
   "metadata": {},
   "outputs": [
    {
     "output_type": "stream",
     "name": "stderr",
     "text": [
      "C:\\Users\\benja\\AppData\\Roaming\\Python\\Python39\\site-packages\\pretty_midi\\pretty_midi.py:97: RuntimeWarning: Tempo, Key or Time signature change events found on non-zero tracks.  This is not a valid type 0 or type 1 MIDI file.  Tempo, Key or Time Signature may be wrong.\n",
      "  warnings.warn(\n",
      "lmd_matched\\A\\A\\M\\TRAAMBM128F4248306\\1d2b92aa9e454280cca21fae99ebce8e.mid\n",
      "lmd_matched\\A\\A\\M\\TRAAMBM128F4248306\\cfdc20d17d7ae95f3493dbf1c3177148.mid\n",
      "Finished in 16.602978229522705 seconds.\n"
     ]
    }
   ],
   "source": [
    "midi_data = []\n",
    "i = 0\n",
    "\n",
    "startTime = time.time()\n",
    "\n",
    "for file in files:\n",
    "    if i >= 100: break\n",
    "    try:\n",
    "        midi_data.append(pm.PrettyMIDI(file))\n",
    "        i += 1\n",
    "    except:\n",
    "        print(file)\n",
    "\n",
    "endTime = time.time()\n",
    "print(\"Finished in {} seconds.\".format(endTime - startTime))"
   ]
  },
  {
   "cell_type": "code",
   "execution_count": 23,
   "metadata": {
    "tags": []
   },
   "outputs": [
    {
     "output_type": "stream",
     "name": "stdout",
     "text": [
      "209 163 100 137 18 51 268\nSynth Brass 1 | main synth          \nSynth Brass 1 | echo synth          \nString Ensemble 1 | main strings h      \nString Ensemble 1 | main strings m      \nString Ensemble 1 | main strings l      \nTubular Bells | xtras               \nHarpsichord | harpsichord         \nSoprano Sax | verse xtra          \nString Ensemble 1 | end string h        \nOrchestra Hit | orchestra hit       \nFlute | \nBrass Section | \nAlto Sax | \nMarimba | \nHarpsichord | \nSynth Strings 1 | \nAccordion | \nAlto Sax | \nShamisen | TOUCHINT\nPan Flute | TOUCHINT\nKalimba | TOUCHINT\nPad 3 (polysynth) | TOUCHINT\nString Ensemble 2 | TOUCHINT\nHarmonica | TOUCHINT\nMelodic Tom | TOUCHINT\nSynth Brass 2 | TOUCHINT\nSynth Brass 1 | TOUCHINT\nKalimba | 4\nAlto Sax | 3\nFX 1 (rain) | 7\nPad 3 (polysynth) | POLYSYNTH\nPad 8 (sweep) | SWEEP PAD\nClavinet | \nPad 3 (polysynth) | \nPad 8 (sweep) | \nPad 3 (polysynth) | \nPizzicato Strings | Pizzacato\nBrass Section | Brass\nTenor Sax | Sax\nSynth Strings 2 | SynStr\nPad 3 (polysynth) | \nPad 8 (sweep) | \nPad 3 (polysynth) | \nPad 3 (polysynth) | \nPad 8 (sweep) | \nPad 3 (polysynth) | \nClavinet | \nPad 3 (polysynth) | \nPad 8 (sweep) | \nPad 3 (polysynth) | \nMarimba | \nShakuhachi | \nViolin | \nString Ensemble 1 | \nBreath Noise | \nString Ensemble 1 | \nAlto Sax | \nGlockenspiel | \nString Ensemble 2 | \nString Ensemble 1 | \nAlto Sax | \nGlockenspiel | \nFlute | Melody\nTenor Sax | Sax 1\nBaritone Sax | Sax 2\nAlto Sax | \nSynth Strings 1 | \nSynth Strings 1 | \nAlto Sax | \nFlute | Melody\nTenor Sax | Harmony\nSynth Brass 1 | CLOSER TO ME                    ;Words and music by John Spinks\nFlute | CLOSER TO ME                    ;Words and music by John Spinks\nFX 8 (sci-fi) | CLOSER TO ME                    ;Words and music by John Spinks\nClavinet | CLOSER TO ME                    ;Words and music by John Spinks\nSynth Brass 1 | MELODY\nFlute | FLUTE\nClavinet | CLAVINET\nFX 8 (sci-fi) | STAR THEME\nAlto Sax | untitled\nFlute | Fast Car - Tracy Chapman\nRecorder | \nMelodic Tom | Tracy Chapman - Fast Car\nFlute | \nRecorder | \nString Ensemble 1 | STRINGS\nTenor Sax | MELODY\nVibraphone | VIBRAPHONE\nTremolo Strings | TREMOLOSTR\nOrchestral Harp | HARP\nString Ensemble 1 | \nTenor Sax | \nString Ensemble 2 | \nMuted Trumpet | \nTremolo Strings | \nSoprano Sax | Echo 1\nSoprano Sax | Echo 2\nString Ensemble 1 | Strings\nReverse Cymbal | Sus. Cymbal\nSynth Strings 1 | La Playa - La Oreja De Van Gogh\nSynth Brass 1 | La Playa - La Oreja De Van Gogh\nPiccolo | La Playa - La Oreja De Van Gogh\nString Ensemble 1 | La Playa - La Oreja De Van Gogh\nPiccolo | \nString Ensemble 1 | \nSynth Strings 1 | \nSynth Brass 1 | \nFlute | Let's get retarded\nAlto Sax | Let's get retarded\nTrumpet | Let's get retarded\nTrumpet | Let's get retarded\nWhistle | Let's get retarded\nFlute | Let's get retarded\nReverse Cymbal | HUNGRY HEART\nGlockenspiel | HUNGRY HEART\nBaritone Sax | HUNGRY HEART\nSynth Brass 2 | HUNGRY HEART\nSoprano Sax | S. Sax\nPad 2 (warm) | Strings\nSynth Strings 1 | Strings\nOboe | CaliforniaBlue\nString Ensemble 2 | CaliforniaBlue\nString Ensemble 1 | CaliforniaBlue\nPizzicato Strings | CaliforniaBlue\nString Ensemble 1 | AcousGrPiano\nString Ensemble 1 | Strings\nSynth Strings 1 | \nPan Flute | mélodie\nBanjo | \nPiccolo | \nBanjo | \nPiccolo | \nBanjo | \nPiccolo | \nBanjo | STOP STOP STOP                  ;Graham Nash / Allan Clarke / Tony Hicks\nPiccolo | STOP STOP STOP                  ;Graham Nash / Allan Clarke / Tony Hicks\nBanjo | STOP STOP STOP                  ;Graham Nash / Allan Clarke / Tony Hicks\nPiccolo | STOP STOP STOP                  ;Graham Nash / Allan Clarke / Tony Hicks\nBanjo | STOP STOP STOP                  ;Graham Nash / Allan Clarke / Tony Hicks\nPiccolo | STOP STOP STOP                  ;Graham Nash / Allan Clarke / Tony Hicks\nAccordion | \nString Ensemble 2 | Bijuteria - Bru\nSynth Strings 1 | Coming Around Again\nTenor Sax | Coming Around Again\nString Ensemble 2 | Coming Around Again\nSynth Brass 1 | Lady_Gaga-You_and_I\nReverse Cymbal | Lady_Gaga-You_and_I\nVibraphone | Lady_Gaga-You_and_I\nString Ensemble 1 | Lady_Gaga-You_and_I\nSynth Strings 2 | Lady_Gaga-You_and_I\nTrumpet | IWANNABE\nMuted Trumpet | IWANNABE\nClarinet | IWANNABE\nTrombone | IWANNABE\nString Ensemble 2 | IWANNABE\nBaritone Sax | IWANNABE\nFlute | IWANNABE\nViolin | IWANNABE\nOrchestral Harp | IWANNABE\nString Ensemble 1 | Strings\nRecorder | Melody 1\nCello | Melody 2\nViolin | Melody 3\nSynth Strings 1 | Strings\nString Ensemble 1 | Strings \nString Ensemble 2 | Str tief\u0000\nCello | Str Mid \u0000\nString Ensemble 1 | Str Hoch\u0000\nString Ensemble 1 | arch1\nString Ensemble 2 | arch2\nBird Tweet | rum2\nTremolo Strings | arch4\nFX 6 (goblins) | vibr\nAlto Sax | ALTO SAX\nString Ensemble 1 | STRINGS\nString Ensemble 1 | bass THe Way th\nFX 8 (sci-fi) | STAR THEME\nSynth Strings 1 | SYN STRING\nBagpipe | BAG PIPE\nSynth Drum | SYNTH DRUM\nPad 2 (warm) | Pad 2 (warm)\nPad 5 (bowed) | Pad 5 (bowed)\nPad 1 (new age) | Pad 1 (new age)\nSynth Strings 1 | SynthString 1\nString Ensemble 1 | Strings\nPad 5 (bowed) | bells\nFX 2 (soundtrack) | Pad\nSitar | Background sitar\u0000\nAlto Sax | MELODY\nString Ensemble 1 | STRINGS\nMarimba | MARIMBA\nTubular Bells | TUBULARBEL\nBrass Section | BRASS 1\nAlto Sax | ALTO SAX\nFlute | \nSynth Strings 1 | \nPad 7 (halo) | vox\nFrench Horn | brass\nPad 7 (halo) | vox\nAlto Sax | \nTenor Sax | \nString Ensemble 2 | strings 1\nOboe | soprano sax\nPan Flute | MIDI\nString Ensemble 2 | MIDI\nFX 7 (echoes) | MIDI\nClarinet | \nString Ensemble 2 | SLOWSTRING\nEnglish Horn | \nTenor Sax | \nString Ensemble 1 | \nPad 2 (warm) | Warm Pad\nPad 2 (warm) | RA GIÊNG ANH CÝÕìI EM (B)\nString Ensemble 2 | RA GIÊNG ANH CÝÕìI EM (B)\nFlute | RA GIÊNG ANH CÝÕìI EM (B)\nKoto | RA GIÊNG ANH CÝÕìI EM (B)\nViolin | RA GIÊNG ANH CÝÕìI EM (B)\nPizzicato Strings | RA GIÊNG ANH CÝÕìI EM (B)\nString Ensemble 1 | \nSynth Strings 1 | \nEnglish Horn | ENG.HORN\nString Ensemble 2 | SLOWSTRING\nAlto Sax | ALTO SAX\nPad 2 (warm) | WARM PAD\nString Ensemble 2 | SLOWSTRING\nPad 7 (halo) | HALO PAD\nTimpani | \nSynth Strings 2 | \nSynth Strings 1 | \nTrumpet | Melody\nMuted Trumpet | Choir\nVibraphone | Vibraphone\nSynth Strings 1 | Strings\nPizzicato Strings | Pizzicato\nPizzicato Strings | PIZZICATO\nString Ensemble 1 | STRINGS\nString Ensemble 1 | STRINGS\nFlute | FLUTE\nOboe | OBOE\nAlto Sax | Money\nString Ensemble 1 | STRINGS\nString Ensemble 1 | STRINGS\nFrench Horn | FR.HORN\nTrombone | TROMBONE\nTrumpet | TRUMPET\nFlute | FLUTE\nClarinet | CLARINET\nOrchestral Harp | HARP\nTimpani | TIMPANI\nAlto Sax | Melodia\nPad 7 (halo) | SynIntro\nOrchestral Harp | Arpa\nAlto Sax | Sax     \nSynth Strings 1 | Tappeto \nPan Flute | PAN FLUTE\nPad 1 (new age) | OVERDRIVE\nPad 1 (new age) | FANTASIA\nSynth Brass 1 | NYLON GTR\nSynth Brass 2 | SYNBRASS 2\nSynth Strings 1 | SYN STR 1\nFX 2 (soundtrack) | MIDI out #5\nSeashore | MIDI out #6\nOrchestral Harp | \nRecorder | \nPizzicato Strings | Aloa Heya\nSynth Brass 1 | Aloa Heya\nAlto Sax | Aloa Heya\nString Ensemble 1 | Aloa Heya\n"
     ]
    }
   ],
   "source": [
    "guitars = []\n",
    "drums = []\n",
    "bass = []\n",
    "piano = []\n",
    "vocal = []\n",
    "lead = []\n",
    "rest = []\n",
    "\n",
    "for song in midi_data:\n",
    "    for inst in song.instruments:\n",
    "        inst_name = pm.program_to_instrument_name(inst.program)\n",
    "        track_name = inst.name\n",
    "        is_drum = inst.is_drum\n",
    "        if is_drum:\n",
    "            drums.append([inst_name, track_name])\n",
    "        elif \"lead\" in inst_name.lower():\n",
    "            lead.append([inst_name, track_name])\n",
    "        elif \"bass\" in inst_name.lower():\n",
    "            bass.append([inst_name, track_name])\n",
    "        elif \"guit\" in inst_name.lower():\n",
    "            guitars.append([inst_name, track_name])\n",
    "        elif \"pian\" in inst_name.lower():\n",
    "            piano.append([inst_name, track_name])\n",
    "        elif \"organ\" in inst_name.lower():\n",
    "            piano.append([inst_name, track_name])]        elif \"voc\" in inst_name.lower():\n",
    "            vocal.append([inst_name, track_name]) \n",
    "        elif \"choi\" in inst_name.lower():\n",
    "            vocal.append([inst_name, track_name])\n",
    "        elif \"voc\" in inst.name.lower():\n",
    "            vocal.append([inst_name, track_name])\n",
    "        elif \"voi\" in inst_name.lower():\n",
    "            vocal.append([inst_name, track_name])\n",
    "        elif \"voi\" in inst.name.lower():\n",
    "            vocal.append([inst_name, track_name])\n",
    "        else:\n",
    "            rest.append([inst_name, track_name])\n",
    "\n",
    "print(len(guitars), len(drums), len(bass), len(piano), len(lead), len(vocal), len(rest))\n",
    "\n",
    "for n in rest:\n",
    "    print(n[0], \"|\", n[1])"
   ]
  },
  {
   "cell_type": "code",
   "execution_count": 5,
   "metadata": {},
   "outputs": [],
   "source": [
    "names = []\n",
    "num_inst = 0\n",
    "for data in midi_data:\n",
    "    for instrument in data.instruments:\n",
    "        num_inst += 1\n",
    "        if instrument.name not in names:\n",
    "            names.append(instrument.name)"
   ]
  },
  {
   "cell_type": "code",
   "execution_count": 6,
   "metadata": {
    "tags": []
   },
   "outputs": [
    {
     "output_type": "stream",
     "name": "stdout",
     "text": [
      "946 278\n"
     ]
    }
   ],
   "source": [
    "print(num_inst, len(names)) \n"
   ]
  },
  {
   "cell_type": "code",
   "execution_count": 20,
   "metadata": {
    "tags": []
   },
   "outputs": [
    {
     "output_type": "stream",
     "name": "stdout",
     "text": [
      "0 0\n[]\n"
     ]
    }
   ],
   "source": [
    "res = [i for i in names if \"voc\" in i]\n",
    "res2 = [i for i in names if \"voc\" in i]\n",
    "for i in range(len(res)):\n",
    "    if res[i] not in res2:\n",
    "        print(res[i])\n",
    "print(len(res), len(res2))\n",
    "print(res)"
   ]
  },
  {
   "cell_type": "code",
   "execution_count": 4,
   "metadata": {},
   "outputs": [
    {
     "output_type": "stream",
     "name": "stdout",
     "text": [
      "101\n"
     ]
    }
   ],
   "source": [
    "print(len(midi_data))"
   ]
  }
 ],
 "metadata": {
  "kernelspec": {
   "name": "python3",
   "display_name": "Python 3.9.0 64-bit"
  },
  "language_info": {
   "codemirror_mode": {
    "name": "ipython",
    "version": 3
   },
   "file_extension": ".py",
   "mimetype": "text/x-python",
   "name": "python",
   "nbconvert_exporter": "python",
   "pygments_lexer": "ipython3",
   "version": "3.9.0"
  },
  "interpreter": {
   "hash": "8c9f6109243efbe3fbee7d761dc0e883205c8e2e3f541eaf566327113f419cea"
  }
 },
 "nbformat": 4,
 "nbformat_minor": 4
}