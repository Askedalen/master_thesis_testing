{
 "cells": [
  {
   "cell_type": "code",
   "execution_count": 1,
   "metadata": {},
   "outputs": [],
   "source": [
    "import pretty_midi\n",
    "import IPython.display\n",
    "import matplotlib.pyplot as plt\n",
    "import librosa.display\n",
    "import os\n"
   ]
  },
  {
   "cell_type": "code",
   "execution_count": 3,
   "metadata": {},
   "outputs": [],
   "source": [
    "midi_data = pretty_midi.PrettyMIDI('lmd_matched/A/A/A/TRAAAGR128F425B14B/1d9d16a9da90c090809c153754823c2b.mid')"
   ]
  },
  {
   "cell_type": "code",
   "execution_count": 4,
   "metadata": {},
   "outputs": [
    {
     "name": "stdout",
     "output_type": "stream",
     "text": [
      "Instrument(program=62, is_drum=False, name=\"main synth          \")\n",
      "Instrument(program=62, is_drum=False, name=\"echo synth          \")\n",
      "Instrument(program=48, is_drum=False, name=\"main strings h      \")\n",
      "Instrument(program=48, is_drum=False, name=\"main strings m      \")\n",
      "Instrument(program=48, is_drum=False, name=\"main strings l      \")\n",
      "Instrument(program=33, is_drum=False, name=\"main bass           \")\n",
      "Instrument(program=0, is_drum=True, name=\"drums + fills       \")\n",
      "Instrument(program=14, is_drum=False, name=\"xtras               \")\n",
      "Instrument(program=6, is_drum=False, name=\"harpsichord         \")\n",
      "Instrument(program=19, is_drum=False, name=\"verse vibe h        \")\n",
      "Instrument(program=19, is_drum=False, name=\"verse vibe m        \")\n",
      "Instrument(program=19, is_drum=False, name=\"verse vibe l        \")\n",
      "Instrument(program=1, is_drum=False, name=\"verse piano         \")\n",
      "Instrument(program=64, is_drum=False, name=\"verse xtra          \")\n",
      "Instrument(program=48, is_drum=False, name=\"end string h        \")\n",
      "Instrument(program=1, is_drum=False, name=\"voice               \")\n",
      "Instrument(program=55, is_drum=False, name=\"orchestra hit       \")\n"
     ]
    }
   ],
   "source": [
    "for instrument in midi_data.instruments:\n",
    "    print(instrument)"
   ]
  },
  {
   "cell_type": "code",
   "execution_count": null,
   "metadata": {},
   "outputs": [],
   "source": [
    "path = \"lmd_matched\"\n",
    "\n",
    "files = []\n",
    "\n",
    "for r, d, f in os.walk(path):\n",
    "    for file in f:\n",
    "        if '.mid' in file:\n",
    "            files.append(os.path.join(r, file))\n",
    "\n",
    "print(len(files))"
   ]
  },
  {
   "cell_type": "code",
   "execution_count": null,
   "metadata": {},
   "outputs": [
    {
     "name": "stderr",
     "output_type": "stream",
     "text": [
      "C:\\Users\\benja\\anaconda3\\lib\\site-packages\\pretty_midi\\pretty_midi.py:97: RuntimeWarning: Tempo, Key or Time signature change events found on non-zero tracks.  This is not a valid type 0 or type 1 MIDI file.  Tempo, Key or Time Signature may be wrong.\n",
      "  warnings.warn(\n"
     ]
    },
    {
     "name": "stdout",
     "output_type": "stream",
     "text": [
      "lmd_matched/lmd_matched\\A\\A\\M\\TRAAMBM128F4248306\\1d2b92aa9e454280cca21fae99ebce8e.mid\n",
      "lmd_matched/lmd_matched\\A\\A\\M\\TRAAMBM128F4248306\\cfdc20d17d7ae95f3493dbf1c3177148.mid\n",
      "lmd_matched/lmd_matched\\A\\A\\S\\TRAASMT12903CC238B\\913503a9957064c04d5cc72e351bf485.mid\n",
      "lmd_matched/lmd_matched\\A\\B\\A\\TRABAYJ128F92E34EC\\3056c10a32eae29dc187cb8c742ecbb7.mid\n",
      "lmd_matched/lmd_matched\\A\\B\\B\\TRABBNH128F93392A1\\62f4d8788ba05f3c49ebfa6fc9164621.mid\n",
      "lmd_matched/lmd_matched\\A\\B\\Y\\TRABYJG128F424D12B\\2cdb25a9abc795d12679c3f6abc2b212.mid\n"
     ]
    }
   ],
   "source": [
    "midi_data = []\n",
    "i = 0\n",
    "for file in files:\n",
    "    try:\n",
    "        midi_data.append(pretty_midi.PrettyMIDI(file))\n",
    "        i += 1\n",
    "    except:\n",
    "        print(file)\n"
   ]
  },
  {
   "cell_type": "code",
   "execution_count": null,
   "metadata": {},
   "outputs": [],
   "source": [
    "print(len(midi_data))"
   ]
  }
 ],
 "metadata": {
  "kernelspec": {
   "display_name": "Python 3",
   "language": "python",
   "name": "python3"
  },
  "language_info": {
   "codemirror_mode": {
    "name": "ipython",
    "version": 3
   },
   "file_extension": ".py",
   "mimetype": "text/x-python",
   "name": "python",
   "nbconvert_exporter": "python",
   "pygments_lexer": "ipython3",
   "version": "3.8.3"
  }
 },
 "nbformat": 4,
 "nbformat_minor": 4
}
